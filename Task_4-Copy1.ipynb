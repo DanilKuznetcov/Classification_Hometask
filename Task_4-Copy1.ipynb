{
 "cells": [
  {
   "cell_type": "markdown",
   "metadata": {},
   "source": [
    "# Линейная регрессия"
   ]
  },
  {
   "cell_type": "code",
   "execution_count": 1,
   "metadata": {},
   "outputs": [],
   "source": [
    "from collections import defaultdict\n",
    "\n",
    "import numpy as np\n",
    "from matplotlib import pyplot as plt\n",
    "\n",
    "import torch\n",
    "from torch import nn\n",
    "from torch.autograd import Variable"
   ]
  },
  {
   "cell_type": "markdown",
   "metadata": {},
   "source": [
    "Данные содержатся в файле `data/lin_reg.txt`. Прочитать их можно следующим так:"
   ]
  },
  {
   "cell_type": "code",
   "execution_count": 2,
   "metadata": {},
   "outputs": [],
   "source": [
    "D = np.loadtxt('lin_reg.txt', delimiter=',')\n",
    "X = D[:, :-1]\n",
    "y = D[:, -1]\n",
    "y = np.reshape(y, [len(y), 1])\n",
    "X = (X - np.mean(X)) / np.std(X)\n",
    "X = np.hstack([X, np.ones((X.shape[0], 1))])"
   ]
  },
  {
   "cell_type": "markdown",
   "metadata": {},
   "source": [
    "При выполнении заданий **нельзя** пользоваться `scikit-learn` и т.п., только `NumPy`/`JAX`/`TF`/`PyTorch` и `matplotlib`/`seaborn`/`plotly`/etc.\n",
    "\n",
    "1. Нарисуйте график среднеквадратичной ошибки в зависимости от параметра регуляризации $\\alpha$, используя полные данные для обучения и для тестирования. \n",
    "2. Подготовьте исходные данные для 5 fold CV.\n",
    "3. С помощью CV найдите оптимальное значение $\\alpha$ на какой-нибудь сетке значений.\n",
    "4. Постройте валидационную кривую. \n",
    "5. Постройте кривую обучения."
   ]
  },
  {
   "cell_type": "markdown",
   "metadata": {},
   "source": [
    "## Релизация Линейной Регрессии"
   ]
  },
  {
   "cell_type": "code",
   "execution_count": 3,
   "metadata": {},
   "outputs": [],
   "source": [
    "class Linear_Regression:\n",
    "    def __init__(self, alpha, NUM_STEPS):\n",
    "        self.alpha = alpha # learning rate\n",
    "        self.num_steps = NUM_STEPS\n",
    "        self.mse = []\n",
    "        \n",
    "    def fit(self, X, y):\n",
    "        self.w = np.random.rand(X.shape[1], 1) # инициализация вектора весов\n",
    "        # размерность w получаем из равенства y = (X, w) при известных размерностях y и X\n",
    "        self.X =  X\n",
    "        self.y = y\n",
    "        \n",
    "        for _ in range(self.num_steps):\n",
    "            self.update_weights()\n",
    "        \n",
    "    def fit_plot(self, X_train, y_train, X_test, y_test):\n",
    "        self.w = np.random.rand(X.shape[1], 1) # инициализация вектора весов\n",
    "        # размерность w получаем из равенства y = (X, w) при известных размерностях y и X\n",
    "        self.X =  X\n",
    "        self.y = y\n",
    "        val_loss = []\n",
    "        for step in range(self.num_steps):\n",
    "            self.update_weights()   \n",
    "            pred = self.predict(X_test)\n",
    "            val_loss.append(self.loss_func(pred, y_test))\n",
    "           \n",
    "        plt.plot(self.mse, label = \"train_curve\")\n",
    "        plt.plot(val_loss, label = \"val_curve\")\n",
    "        plt.show()\n",
    "    def update_weights(self):\n",
    "        \"\"\"\n",
    "        Градиентный спуск\n",
    "        \"\"\"\n",
    "        y_pred = self.predict(self.X)        \n",
    "        self.errors = y_pred - self.y\n",
    "        grad = 2 * self.X.T.dot(self.errors) / len(self.X) \n",
    "        self.w0 = self.w.copy()\n",
    "        self.w -= self.alpha * grad\n",
    "        self.mse.append(self.loss_func(y_pred, self.y))\n",
    "\n",
    "    def loss_func(self, y_pred, y):\n",
    "        return (np.power(y_pred - y, 2)).mean()\n",
    "        \n",
    "    def predict(self, X):\n",
    "        return X.dot(self.w)\n",
    "    \n",
    "    def MSE(self):\n",
    "        return self.mse[len(self.mse)-1]"
   ]
  },
  {
   "cell_type": "markdown",
   "metadata": {},
   "source": [
    "## 2. Подготовка данных для Кросс Валидации"
   ]
  },
  {
   "cell_type": "code",
   "execution_count": 4,
   "metadata": {},
   "outputs": [],
   "source": [
    "def CV(X, y):\n",
    "    ind = np.arange(0, len(X), 1)\n",
    "    mse_list = []\n",
    "    mse_val_list = []\n",
    "    for alpha in np.arange(0.01, 0.3, 0.001)[::-1]:\n",
    "        mse_temp = []\n",
    "        mse_val_temp = []\n",
    "        for i in range(5):\n",
    "            start = len(X) // 5 * i\n",
    "            stop = len(X) // 5 * (i + 1)\n",
    "            test_ind = ind[start:stop]\n",
    "            X_test = X[test_ind]\n",
    "            y_test = y[test_ind]\n",
    "            train_ind = list(set(ind) - set(test_ind))\n",
    "            X_train = X[train_ind]\n",
    "            y_train = y[train_ind]\n",
    "            model = Linear_Regression(alpha=alpha, NUM_STEPS=10000)\n",
    "            model.fit(X_train, y_train)\n",
    "            mse_temp.append(model.MSE())\n",
    "            pred = model.predict(X_test)\n",
    "            mse_val_temp.append(model.loss_func(pred, y_test))\n",
    "        mse_list.append(np.mean(mse_temp))\n",
    "        mse_val_list.append(np.mean(mse_val_temp))\n",
    "        \n",
    "    return mse_list, mse_val_list\n",
    "\n",
    "mse_list, mse_val_list = CV(X, y)"
   ]
  },
  {
   "cell_type": "markdown",
   "metadata": {},
   "source": [
    "## 1. График зависимости MSE от параметра регуляризации"
   ]
  },
  {
   "cell_type": "code",
   "execution_count": 5,
   "metadata": {},
   "outputs": [
    {
     "data": {
      "image/png": "[encoded data removed]",
      "text/plain": [
       "<Figure size 640x480 with 1 Axes>"
      ]
     },
     "metadata": {},
     "output_type": "display_data"
    }
   ],
   "source": [
    "plt.plot(np.arange(0.01, 0.3, 0.001), mse_list, label = 'MSE error')\n",
    "plt.show()"
   ]
  },
  {
   "cell_type": "markdown",
   "metadata": {},
   "source": [
    "## 3. Оптимальный параметр регуляризации"
   ]
  },
  {
   "cell_type": "code",
   "execution_count": 6,
   "metadata": {},
   "outputs": [
    {
     "data": {
      "text/plain": [
       "0.08699999999999992"
      ]
     },
     "execution_count": 6,
     "metadata": {},
     "output_type": "execute_result"
    }
   ],
   "source": [
    "best_alpha = np.arange(0.01, 0.3, 0.001)[np.argmin(mse_val_list)]\n",
    "best_alpha"
   ]
  },
  {
   "cell_type": "markdown",
   "metadata": {},
   "source": [
    "## 4. Валидационная кривая"
   ]
  },
  {
   "cell_type": "code",
   "execution_count": 7,
   "metadata": {},
   "outputs": [
    {
     "data": {
      "image/png": "[encoded data removed]",
      "text/plain": [
       "<Figure size 640x480 with 1 Axes>"
      ]
     },
     "metadata": {},
     "output_type": "display_data"
    }
   ],
   "source": [
    "lr = Linear_Regression(best_alpha, NUM_STEPS=10000)\n",
    "X_train, y_train = X[:900], y[:900]\n",
    "X_test, y_test = X[900:], y[900:]\n",
    "lr.fit_plot(X_train, y_train, X_test, y_test)"
   ]
  }
 ],
 "metadata": {
  "kernelspec": {
   "display_name": "Python 3 (ipykernel)",
   "language": "python",
   "name": "python3"
  },
  "language_info": {
   "codemirror_mode": {
    "name": "ipython",
    "version": 3
   },
   "file_extension": ".py",
   "mimetype": "text/x-python",
   "name": "python",
   "nbconvert_exporter": "python",
   "pygments_lexer": "ipython3",
   "version": "3.10.6"
  }
 },
 "nbformat": 4,
 "nbformat_minor": 4
}
